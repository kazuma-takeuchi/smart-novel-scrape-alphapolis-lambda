{
 "metadata": {
  "language_info": {
   "codemirror_mode": {
    "name": "ipython",
    "version": 3
   },
   "file_extension": ".py",
   "mimetype": "text/x-python",
   "name": "python",
   "nbconvert_exporter": "python",
   "pygments_lexer": "ipython3",
   "version": "3.7.2-final"
  },
  "orig_nbformat": 2,
  "kernelspec": {
   "name": "python3",
   "display_name": "Python 3"
  }
 },
 "nbformat": 4,
 "nbformat_minor": 2,
 "cells": [
  {
   "cell_type": "code",
   "execution_count": 1,
   "metadata": {},
   "outputs": [],
   "source": [
    "import os\n",
    "import re\n",
    "import json\n",
    "import time\n",
    "import base64\n",
    "import requests\n",
    "import logging\n",
    "\n",
    "from bs4 import BeautifulSoup\n",
    "from datetime import datetime"
   ]
  },
  {
   "cell_type": "code",
   "execution_count": 2,
   "metadata": {},
   "outputs": [],
   "source": [
    "def create_id(url):\n",
    "    id_ = site_name + \"-\" + url.split('/')[-1]\n",
    "    return id_\n",
    "\n",
    "def get_html(url):\n",
    "    res = requests.get(url)\n",
    "    if res.status_code == 200:\n",
    "        return res.content\n",
    "    else:\n",
    "        return None"
   ]
  },
  {
   "cell_type": "code",
   "execution_count": 3,
   "metadata": {},
   "outputs": [],
   "source": [
    "url = \"https://kakuyomu.jp/works/1177354054888692851\"\n",
    "# url = \"https://www.alphapolis.co.jp/novel/837125633/318408912\"\n",
    "site_name = \"kakuyomu\""
   ]
  },
  {
   "cell_type": "code",
   "execution_count": 4,
   "metadata": {},
   "outputs": [],
   "source": [
    "html = get_html(url).decode('utf-8')\n",
    "soup = BeautifulSoup(html, \"html.parser\")\n"
   ]
  },
  {
   "cell_type": "code",
   "execution_count": 6,
   "metadata": {},
   "outputs": [
    {
     "output_type": "execute_result",
     "data": {
      "text/plain": "'ミアの不思議RPG'"
     },
     "metadata": {},
     "execution_count": 6
    }
   ],
   "source": [
    "soup.find(\"h1\", id=\"workTitle\").get_text().strip()"
   ]
  },
  {
   "cell_type": "code",
   "execution_count": null,
   "metadata": {},
   "outputs": [],
   "source": [
    "document['title'] = soup.find(\"h1\", id=\"workTitle\").get_text().strip()"
   ]
  }
 ]
}